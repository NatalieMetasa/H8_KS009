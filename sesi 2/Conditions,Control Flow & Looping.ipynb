{
 "cells": [
  {
   "cell_type": "code",
   "execution_count": 1,
   "id": "b2666ad9",
   "metadata": {},
   "outputs": [],
   "source": [
    "x = 0\n",
    "y = 5"
   ]
  },
  {
   "cell_type": "code",
   "execution_count": 2,
   "id": "5f77260b",
   "metadata": {},
   "outputs": [
    {
     "name": "stdout",
     "output_type": "stream",
     "text": [
      "yes\n"
     ]
    }
   ],
   "source": [
    "if x < y:\n",
    "    print('yes')"
   ]
  },
  {
   "cell_type": "code",
   "execution_count": 3,
   "id": "a848f0b6",
   "metadata": {},
   "outputs": [],
   "source": [
    "if y < x:\n",
    "    print('yes')"
   ]
  },
  {
   "cell_type": "code",
   "execution_count": 4,
   "id": "80dee6ae",
   "metadata": {},
   "outputs": [
    {
     "name": "stdout",
     "output_type": "stream",
     "text": [
      "0 5\n"
     ]
    }
   ],
   "source": [
    "print(x,y)"
   ]
  },
  {
   "cell_type": "code",
   "execution_count": 5,
   "id": "41e09d40",
   "metadata": {},
   "outputs": [],
   "source": [
    "if y < x:\n",
    "    # 5 < 0 ?? False --> Falsy\n",
    "    print('yes')"
   ]
  },
  {
   "cell_type": "code",
   "execution_count": 6,
   "id": "6bb121e6",
   "metadata": {},
   "outputs": [
    {
     "name": "stdout",
     "output_type": "stream",
     "text": [
      "0 <class 'int'>\n"
     ]
    }
   ],
   "source": [
    "print(x, type(x))"
   ]
  },
  {
   "cell_type": "code",
   "execution_count": 8,
   "id": "54855a39",
   "metadata": {},
   "outputs": [
    {
     "name": "stdout",
     "output_type": "stream",
     "text": [
      "5 <class 'int'>\n"
     ]
    }
   ],
   "source": [
    "print(y, type(y))"
   ]
  },
  {
   "cell_type": "code",
   "execution_count": 9,
   "id": "0fb073d2",
   "metadata": {},
   "outputs": [],
   "source": [
    "if x: #x =0, karena tipe datanya int dan valuenya 0 maka expression will be evaluated\n",
    "    print('yes')"
   ]
  },
  {
   "cell_type": "code",
   "execution_count": 10,
   "id": "91d7e0d8",
   "metadata": {},
   "outputs": [
    {
     "name": "stdout",
     "output_type": "stream",
     "text": [
      "yes\n"
     ]
    }
   ],
   "source": [
    "if y: # y = 5, maka expresiion will be evaluated to False\n",
    "    print('yes')"
   ]
  },
  {
   "cell_type": "code",
   "execution_count": 11,
   "id": "5d4258c3",
   "metadata": {},
   "outputs": [
    {
     "name": "stdout",
     "output_type": "stream",
     "text": [
      "yes\n"
     ]
    }
   ],
   "source": [
    "if 'aul' in 'grault':\n",
    "    print('yes')"
   ]
  },
  {
   "cell_type": "code",
   "execution_count": 12,
   "id": "42d2f426",
   "metadata": {},
   "outputs": [
    {
     "name": "stdout",
     "output_type": "stream",
     "text": [
      "True\n"
     ]
    }
   ],
   "source": [
    "print('aul' in 'grault')"
   ]
  },
  {
   "cell_type": "code",
   "execution_count": 13,
   "id": "4184ddf1",
   "metadata": {},
   "outputs": [
    {
     "name": "stdout",
     "output_type": "stream",
     "text": [
      "False\n"
     ]
    }
   ],
   "source": [
    "print('alu' in 'grault')"
   ]
  },
  {
   "cell_type": "code",
   "execution_count": 14,
   "id": "773482e8",
   "metadata": {},
   "outputs": [],
   "source": [
    "if 'quux' in ['foo','bar','baz']:\n",
    "    print('yes')"
   ]
  },
  {
   "cell_type": "code",
   "execution_count": 24,
   "id": "9492cad5",
   "metadata": {},
   "outputs": [],
   "source": [
    "keyword = 'hello'\n",
    "words = ['Bed','Time','Stories']\n",
    "\n",
    "if keyword in words:\n",
    "    print('found!')"
   ]
  },
  {
   "cell_type": "code",
   "execution_count": 16,
   "id": "0a2d2705",
   "metadata": {},
   "outputs": [
    {
     "name": "stdout",
     "output_type": "stream",
     "text": [
      "Mow the lawn\n",
      "Weed the garden\n",
      "Take the dig for a walk\n"
     ]
    }
   ],
   "source": [
    "weather ='nice'\n",
    "# weather ='stormy'\n",
    "\n",
    "if weather == 'nice':\n",
    "    print('Mow the lawn')\n",
    "    print('Weed the garden')\n",
    "    print('Take the dig for a walk')"
   ]
  },
  {
   "cell_type": "code",
   "execution_count": 18,
   "id": "27bc8119",
   "metadata": {},
   "outputs": [],
   "source": [
    "# weather ='nice'\n",
    "weather ='stormy'\n",
    "\n",
    "if weather == 'nice':\n",
    "    print('Mow the lawn')\n",
    "    print('Weed the garden')\n",
    "    print('Take the dig for a walk')"
   ]
  },
  {
   "cell_type": "code",
   "execution_count": 19,
   "id": "73832e7f",
   "metadata": {},
   "outputs": [
    {
     "name": "stdout",
     "output_type": "stream",
     "text": [
      "Selesai memutuskan\n"
     ]
    }
   ],
   "source": [
    "#weather ='nice'\n",
    "weather ='stormy'\n",
    "\n",
    "if weather == 'nice':\n",
    "    print('Mow the lawn')\n",
    "    print('Weed the garden')\n",
    "    print('Take the dig for a walk')\n",
    "    \n",
    "print('Selesai memutuskan')"
   ]
  },
  {
   "cell_type": "code",
   "execution_count": 20,
   "id": "e4c9ebb6",
   "metadata": {},
   "outputs": [
    {
     "name": "stdout",
     "output_type": "stream",
     "text": [
      "Mow the lawn\n",
      "Weed the garden\n",
      "Take the dig for a walk\n",
      "Selesai memutuskan\n"
     ]
    }
   ],
   "source": [
    "weather ='nice'\n",
    "#weather ='stormy'\n",
    "\n",
    "if weather == 'nice':\n",
    "    print('Mow the lawn')\n",
    "    print('Weed the garden')\n",
    "    print('Take the dig for a walk')\n",
    "    \n",
    "print('Selesai memutuskan')"
   ]
  },
  {
   "cell_type": "code",
   "execution_count": 21,
   "id": "3e7f02a9",
   "metadata": {},
   "outputs": [
    {
     "name": "stdout",
     "output_type": "stream",
     "text": [
      "x\n",
      "y\n",
      "nice\n"
     ]
    }
   ],
   "source": [
    "print('x')\n",
    "print('y')\n",
    "print(weather)"
   ]
  },
  {
   "cell_type": "code",
   "execution_count": 23,
   "id": "b9dfc0f1",
   "metadata": {},
   "outputs": [
    {
     "name": "stdout",
     "output_type": "stream",
     "text": [
      "After conditional\n"
     ]
    }
   ],
   "source": [
    "if 'foo' in ['bar','baz','qux']:\n",
    "    print('Expression was true')\n",
    "    print('Executing statement in suite')\n",
    "    print('...')\n",
    "    print('Done')\n",
    "\n",
    "print('After conditional')"
   ]
  },
  {
   "cell_type": "code",
   "execution_count": 25,
   "id": "f2ccd68c",
   "metadata": {},
   "outputs": [
    {
     "name": "stdout",
     "output_type": "stream",
     "text": [
      "Watch movies on the bed\n",
      "...\n"
     ]
    }
   ],
   "source": [
    "weather ='windy'\n",
    "\n",
    "if weather == 'nice':\n",
    "    print('Mow the lawn')\n",
    "    print('Weed the garden')\n",
    "    print('Take the dig for a walk')\n",
    "else:\n",
    "    print('Watch movies on the bed')\n",
    "    print('...')"
   ]
  },
  {
   "cell_type": "code",
   "execution_count": 26,
   "id": "dc961547",
   "metadata": {},
   "outputs": [
    {
     "name": "stdout",
     "output_type": "stream",
     "text": [
      "uang tidak cukup\n"
     ]
    }
   ],
   "source": [
    "harga_buku = 20000\n",
    "harga_majalah = 5000\n",
    "uang = 2000\n",
    "\n",
    "if uang > harga_buku:\n",
    "    print('beli buku')\n",
    "else:\n",
    "    print('uang tidak cukup')"
   ]
  },
  {
   "cell_type": "code",
   "execution_count": 27,
   "id": "07566626",
   "metadata": {},
   "outputs": [
    {
     "name": "stdout",
     "output_type": "stream",
     "text": [
      "uang : 20000\n",
      "harga buku : 20000\n",
      "beli buku\n"
     ]
    }
   ],
   "source": [
    "harga_buku = 20000\n",
    "harga_majalah = 5000\n",
    "#uang = 2000\n",
    "uang = 20000\n",
    "\n",
    "print('uang :', uang)\n",
    "print('harga buku :', harga_buku)\n",
    "\n",
    "#if uang > harga_buku:\n",
    "if uang >= harga_buku:\n",
    "    print('beli buku')\n",
    "else:\n",
    "    print('uang tidak cukup')"
   ]
  },
  {
   "cell_type": "code",
   "execution_count": 28,
   "id": "29940c8a",
   "metadata": {},
   "outputs": [
    {
     "name": "stdout",
     "output_type": "stream",
     "text": [
      "uang : 10000\n",
      "harga buku : 20000\n",
      "harga majalah : 5000\n",
      "uang tidak cukup\n"
     ]
    }
   ],
   "source": [
    "harga_buku = 20000\n",
    "harga_majalah = 5000\n",
    "#uang = 2000\n",
    "#uang = 20000\n",
    "uang = 10000\n",
    "\n",
    "print('uang :', uang)\n",
    "print('harga buku :', harga_buku)\n",
    "print('harga majalah :', harga_majalah)\n",
    "\n",
    "#if uang > harga_buku:\n",
    "if uang >= harga_buku:\n",
    "    print('beli buku')\n",
    "else:\n",
    "    print('uang tidak cukup')"
   ]
  },
  {
   "cell_type": "code",
   "execution_count": 29,
   "id": "f39eb024",
   "metadata": {},
   "outputs": [
    {
     "name": "stdout",
     "output_type": "stream",
     "text": [
      "uang : 10000\n",
      "harga buku : 20000\n",
      "harga majalah : 5000\n",
      "beli majalah\n"
     ]
    }
   ],
   "source": [
    "harga_buku = 20000\n",
    "harga_majalah = 5000\n",
    "uang = 10000\n",
    "\n",
    "print('uang :', uang)\n",
    "print('harga buku :', harga_buku)\n",
    "print('harga majalah :', harga_majalah)\n",
    "\n",
    "if uang > harga_buku:\n",
    "    print('beli buku')\n",
    "elif uang > harga_majalah:\n",
    "    print('beli majalah')\n",
    "else:\n",
    "    print('uang tidak cukup')"
   ]
  },
  {
   "cell_type": "code",
   "execution_count": 36,
   "id": "2653cb64",
   "metadata": {},
   "outputs": [
    {
     "name": "stdout",
     "output_type": "stream",
     "text": [
      "Name : Foxes\n",
      "I don't know who you are..\n"
     ]
    }
   ],
   "source": [
    "#name = 'Hacktiv8'\n",
    "name = 'Foxes'\n",
    "print('Name :',name)\n",
    "\n",
    "if name == 'Fred': #checked\n",
    "    print('Hello Fred')\n",
    "elif name == 'Xander': #checked\n",
    "    print('Hello Xander')\n",
    "elif name == 'Hacktiv8': #checked\n",
    "    print('Hello Hacktiv8')\n",
    "elif name == 'Arnold': #checked\n",
    "    print('Hello Arnold')\n",
    "else:\n",
    "    print(\"I don't know who you are..\")"
   ]
  },
  {
   "cell_type": "code",
   "execution_count": 39,
   "id": "73c0d106",
   "metadata": {},
   "outputs": [
    {
     "name": "stdout",
     "output_type": "stream",
     "text": [
      "foo\n"
     ]
    }
   ],
   "source": [
    "#short circuit evaluation\n",
    "\n",
    "if 'a' in 'bar':\n",
    "    print('foo')\n",
    "elif 'b' in 'bar':\n",
    "    print('b is found!') "
   ]
  },
  {
   "cell_type": "code",
   "execution_count": 41,
   "id": "ee7118f0",
   "metadata": {},
   "outputs": [
    {
     "name": "stdout",
     "output_type": "stream",
     "text": [
      "e\n"
     ]
    }
   ],
   "source": [
    "# a b c d e\n",
    "# >80, >60, >40, >20, >0\n",
    "\n",
    "nilai = 90\n",
    "if nilai > 0:\n",
    "    print('e')\n",
    "elif nilai >20:\n",
    "    print('d')"
   ]
  },
  {
   "cell_type": "code",
   "execution_count": 42,
   "id": "66b5e35f",
   "metadata": {},
   "outputs": [
    {
     "name": "stdout",
     "output_type": "stream",
     "text": [
      "a\n"
     ]
    }
   ],
   "source": [
    "# a b c d e\n",
    "# >80, >60, >40, >20, >0\n",
    "\n",
    "nilai = 90\n",
    "if nilai > 80:\n",
    "    print('a')\n",
    "elif nilai >20:\n",
    "    print('b')\n",
    "\n",
    "#..."
   ]
  },
  {
   "cell_type": "markdown",
   "id": "21346658",
   "metadata": {},
   "source": [
    "One-Line "
   ]
  },
  {
   "cell_type": "code",
   "execution_count": 43,
   "id": "0be53ae1",
   "metadata": {},
   "outputs": [
    {
     "name": "stdout",
     "output_type": "stream",
     "text": [
      "1\n",
      "2\n",
      "3\n"
     ]
    }
   ],
   "source": [
    "if 'f' in 'foo':\n",
    "    print('1'); print('2'); print('3')"
   ]
  },
  {
   "cell_type": "code",
   "execution_count": 44,
   "id": "1061c53c",
   "metadata": {},
   "outputs": [
    {
     "name": "stdout",
     "output_type": "stream",
     "text": [
      "let's go to the beach\n"
     ]
    }
   ],
   "source": [
    "raining = False\n",
    "print(\"let's go to the\", 'beach' if not raining else 'library')"
   ]
  },
  {
   "cell_type": "code",
   "execution_count": 45,
   "id": "3f10baf2",
   "metadata": {},
   "outputs": [
    {
     "name": "stdout",
     "output_type": "stream",
     "text": [
      "True\n"
     ]
    }
   ],
   "source": [
    "print(not raining)\n",
    "#     not false\n",
    "# true"
   ]
  },
  {
   "cell_type": "code",
   "execution_count": 46,
   "id": "6e012313",
   "metadata": {},
   "outputs": [
    {
     "name": "stdout",
     "output_type": "stream",
     "text": [
      "corge\n",
      "grault\n"
     ]
    }
   ],
   "source": [
    "x = 2\n",
    "x = 3\n",
    "\n",
    "if x == 1: print('foo'); print('bar'); print('baz')\n",
    "elif x == 2: print('qux'); print('quux')\n",
    "else: print('corge'); print('grault')\n"
   ]
  },
  {
   "cell_type": "code",
   "execution_count": 47,
   "id": "82eb344a",
   "metadata": {},
   "outputs": [
    {
     "name": "stdout",
     "output_type": "stream",
     "text": [
      "True\n"
     ]
    }
   ],
   "source": [
    "Raining = True\n",
    "print(not raining)\n",
    "# \tnot True\n",
    "# False\n"
   ]
  },
  {
   "cell_type": "code",
   "execution_count": 49,
   "id": "70a88494",
   "metadata": {},
   "outputs": [
    {
     "name": "stdout",
     "output_type": "stream",
     "text": [
      "15\n",
      "teen\n"
     ]
    }
   ],
   "source": [
    "age = 15\n",
    "print(age)\n",
    "\n",
    "# true if expression else false\n",
    "s = 'teen' if age < 21 else 'adult'\n",
    "print(s)"
   ]
  },
  {
   "cell_type": "code",
   "execution_count": 52,
   "id": "591314ef",
   "metadata": {},
   "outputs": [
    {
     "name": "stdout",
     "output_type": "stream",
     "text": [
      "no\n"
     ]
    }
   ],
   "source": [
    "print('yes' if('qux' in ['foo','bar','baz'])else 'no')"
   ]
  },
  {
   "cell_type": "code",
   "execution_count": 53,
   "id": "16bb52f4",
   "metadata": {},
   "outputs": [
    {
     "data": {
      "text/plain": [
       "'teen'"
      ]
     },
     "execution_count": 53,
     "metadata": {},
     "output_type": "execute_result"
    }
   ],
   "source": [
    "s"
   ]
  },
  {
   "cell_type": "code",
   "execution_count": 54,
   "id": "fa88ed54",
   "metadata": {},
   "outputs": [
    {
     "data": {
      "text/plain": [
       "4"
      ]
     },
     "execution_count": 54,
     "metadata": {},
     "output_type": "execute_result"
    }
   ],
   "source": [
    "students = ['aa','bb','cc','dd']\n",
    "len(students)"
   ]
  },
  {
   "cell_type": "markdown",
   "id": "eca647fb",
   "metadata": {},
   "source": [
    "while i < len(students):\n",
    "    hitung_rata_rata(students[i])"
   ]
  },
  {
   "cell_type": "code",
   "execution_count": 55,
   "id": "6f0befd0",
   "metadata": {},
   "outputs": [
    {
     "name": "stdout",
     "output_type": "stream",
     "text": [
      "4\n",
      "3\n",
      "2\n",
      "1\n",
      "0\n"
     ]
    }
   ],
   "source": [
    "n = 5\n",
    "while n > 0:  #5 > 0?, 4, 3, 2, 1, 0 > 0? False\n",
    "    n -=1     #4 3 2 1 0\n",
    "    print(n)  #4 3 2 1"
   ]
  },
  {
   "cell_type": "code",
   "execution_count": 56,
   "id": "a874efc3",
   "metadata": {
    "scrolled": true
   },
   "outputs": [
    {
     "name": "stdout",
     "output_type": "stream",
     "text": [
      "1\n",
      "2\n",
      "3\n",
      "4\n",
      "5\n"
     ]
    }
   ],
   "source": [
    "i = 1\n",
    "while i < 6: #1, 2, 3, 4, 5, 6 < 6? False\n",
    "    print(i) # 1 2 3 4 5\n",
    "    i += 1   # 2 3 4 5 6"
   ]
  },
  {
   "cell_type": "code",
   "execution_count": 57,
   "id": "db12a270",
   "metadata": {},
   "outputs": [
    {
     "ename": "SyntaxError",
     "evalue": "invalid syntax (949219012.py, line 1)",
     "output_type": "error",
     "traceback": [
      "\u001b[1;36m  Input \u001b[1;32mIn [57]\u001b[1;36m\u001b[0m\n\u001b[1;33m    misalnya mencari 'b' in 'bar'\u001b[0m\n\u001b[1;37m             ^\u001b[0m\n\u001b[1;31mSyntaxError\u001b[0m\u001b[1;31m:\u001b[0m invalid syntax\n"
     ]
    }
   ],
   "source": [
    "misalnya mencari 'b' in 'bar'\n",
    "\n",
    "'barbarbar'\n",
    "\n"
   ]
  },
  {
   "cell_type": "code",
   "execution_count": null,
   "id": "3b2e39fe",
   "metadata": {},
   "outputs": [],
   "source": []
  },
  {
   "cell_type": "code",
   "execution_count": 58,
   "id": "a9b17865",
   "metadata": {},
   "outputs": [
    {
     "name": "stdout",
     "output_type": "stream",
     "text": [
      "4\n",
      "3\n",
      "Loop ended.\n"
     ]
    }
   ],
   "source": [
    "n = 5\n",
    "while n > 0:                    # 5 4 3\n",
    "    n -= 1                      # 4 3 2\n",
    "    if n == 2:                  # F F T\n",
    "        break #break Statement  # S S break\n",
    "    print(n)                    # 4 3 x \n",
    "print ('Loop ended.')"
   ]
  },
  {
   "cell_type": "code",
   "execution_count": 59,
   "id": "459453d2",
   "metadata": {},
   "outputs": [
    {
     "name": "stdout",
     "output_type": "stream",
     "text": [
      "4\n",
      "3\n",
      "1\n",
      "0\n",
      "Loop ended.\n"
     ]
    }
   ],
   "source": [
    "n = 5\n",
    "while n > 0:             # 5 4 3 2 1 0 >0 ? False\n",
    "    n -= 1               # 4 3 2 1 0      \n",
    "    if n == 2:           # F F T F    \n",
    "        continue         # S S C S S\n",
    "    print(n)        \n",
    "    \n",
    "print ('Loop ended.')"
   ]
  },
  {
   "cell_type": "code",
   "execution_count": 60,
   "id": "ee0ef886",
   "metadata": {},
   "outputs": [
    {
     "name": "stdout",
     "output_type": "stream",
     "text": [
      "4\n",
      "-----\n",
      "Loop ended.\n"
     ]
    }
   ],
   "source": [
    "n = 5\n",
    "while n > 0:                   \n",
    "    n -= 1                      \n",
    "    if n == 3:                  \n",
    "        break #break Statement  \n",
    "    print(n)\n",
    "        \n",
    "    if n == 2:              \n",
    "        continue         \n",
    "    print('-'* 5)\n",
    "        \n",
    "print ('Loop ended.')"
   ]
  },
  {
   "cell_type": "code",
   "execution_count": 63,
   "id": "a2b1a0d7",
   "metadata": {},
   "outputs": [
    {
     "name": "stdout",
     "output_type": "stream",
     "text": [
      "9\n",
      "-----\n",
      "8\n",
      "-----\n",
      "7\n",
      "-----\n",
      "6\n",
      "-----\n",
      "5\n",
      "-----\n",
      "4\n",
      "3\n",
      "-----\n",
      "Loop ended.\n"
     ]
    }
   ],
   "source": [
    "n = 10\n",
    "while n > 0:                   \n",
    "    n -= 1                      \n",
    "    if n == 2:                  \n",
    "        break #break Statement  \n",
    "    print(n)\n",
    "        \n",
    "    if n == 4:              \n",
    "        continue  \n",
    "        \n",
    "    print('-'* 5)\n",
    "        \n",
    "print ('Loop ended.')"
   ]
  },
  {
   "cell_type": "code",
   "execution_count": 65,
   "id": "728add6a",
   "metadata": {},
   "outputs": [
    {
     "name": "stdout",
     "output_type": "stream",
     "text": [
      "4\n",
      "3\n",
      "2\n",
      "1\n",
      "0\n",
      "Loop done.\n"
     ]
    }
   ],
   "source": [
    "n = 5\n",
    "while n > 0:\n",
    "    n -= 1\n",
    "    print(n)\n",
    "else:\n",
    "    print('Loop done.')"
   ]
  },
  {
   "cell_type": "code",
   "execution_count": 66,
   "id": "2dacbace",
   "metadata": {},
   "outputs": [
    {
     "name": "stdout",
     "output_type": "stream",
     "text": [
      "foo\n",
      "> baz\n",
      "> qux\n",
      "bar\n",
      "> baz\n",
      "> qux\n"
     ]
    }
   ],
   "source": [
    "a = ['foo','bar']\n",
    "\n",
    "while len(a):           #2\n",
    "    print(a.pop(0))     #['foo'], sisa['bar']\n",
    "    \n",
    "    b = ['baz','qux']\n",
    "    \n",
    "    while len(b):\n",
    "        print('>', b.pop(0)) # >['baz'], sisa ['qux'] || >['qux'], sisa []"
   ]
  },
  {
   "cell_type": "code",
   "execution_count": 72,
   "id": "5aa1bb36",
   "metadata": {},
   "outputs": [
    {
     "ename": "TabError",
     "evalue": "inconsistent use of tabs and spaces in indentation (1793680962.py, line 7)",
     "output_type": "error",
     "traceback": [
      "\u001b[1;36m  Input \u001b[1;32mIn [72]\u001b[1;36m\u001b[0m\n\u001b[1;33m    print('j', j)\u001b[0m\n\u001b[1;37m    ^\u001b[0m\n\u001b[1;31mTabError\u001b[0m\u001b[1;31m:\u001b[0m inconsistent use of tabs and spaces in indentation\n"
     ]
    }
   ],
   "source": [
    "i = 0\n",
    "while i < 4:\n",
    "\tprint('i', i)\n",
    "    \n",
    "\tj = 1\n",
    "\twhile j < 5:\n",
    "    \tprint('j', j)\n",
    "    \tif j == 2:\n",
    "        \tprint('will break loop using j counter')\n",
    "        \tbreak\n",
    "   \t \n",
    "    \tj += 1\n",
    "    \n",
    "\tif i == 1:\n",
    "    \tprint('will break loop using i counter')\n",
    "    \tbreak\n",
    "\ti+=1\n"
   ]
  },
  {
   "cell_type": "code",
   "execution_count": 70,
   "id": "ea93e7ef",
   "metadata": {},
   "outputs": [
    {
     "name": "stdout",
     "output_type": "stream",
     "text": [
      "1\n",
      "1\n",
      "1\n",
      "1\n",
      "1\n",
      "1\n"
     ]
    }
   ],
   "source": [
    "# 1, 3, 5, 7, 9, 11, 13\n",
    "for i in range(1, 13, 2):\n",
    "    print(1)"
   ]
  },
  {
   "cell_type": "markdown",
   "id": "c5f0dd7f",
   "metadata": {},
   "source": []
  },
  {
   "cell_type": "code",
   "execution_count": 71,
   "id": "0f409a60",
   "metadata": {},
   "outputs": [
    {
     "name": "stdout",
     "output_type": "stream",
     "text": [
      "20\n",
      "18\n",
      "16\n",
      "14\n",
      "12\n",
      "10\n",
      "8\n",
      "6\n",
      "4\n",
      "2\n"
     ]
    }
   ],
   "source": [
    "for i in range(20, 0, -2):\n",
    "    print(i)"
   ]
  },
  {
   "cell_type": "code",
   "execution_count": 73,
   "id": "2d8e0ca1",
   "metadata": {},
   "outputs": [
    {
     "name": "stdout",
     "output_type": "stream",
     "text": [
      "foo\n",
      "bar\n",
      "baz\n"
     ]
    }
   ],
   "source": [
    "d = {'foo': 1, 'bar': 2, 'baz': 3}\n",
    "# for k in d: defaultnya:\n",
    "for k in d.keys():\n",
    "\tprint(k)\n"
   ]
  },
  {
   "cell_type": "code",
   "execution_count": 74,
   "id": "8dd034e2",
   "metadata": {},
   "outputs": [
    {
     "name": "stdout",
     "output_type": "stream",
     "text": [
      "1\n",
      "2\n",
      "3\n"
     ]
    }
   ],
   "source": [
    "d = {'foo': 1, 'bar': 2, 'baz': 3}\n",
    "for k in d.values():\n",
    "\tprint(k)\n"
   ]
  },
  {
   "cell_type": "code",
   "execution_count": 75,
   "id": "ce48c1cf",
   "metadata": {},
   "outputs": [
    {
     "name": "stdout",
     "output_type": "stream",
     "text": [
      "('foo', 1)\n",
      "('bar', 2)\n",
      "('baz', 3)\n"
     ]
    }
   ],
   "source": [
    "d = {'foo': 1, 'bar': 2, 'baz': 3}\n",
    "for k in d.items():\n",
    "\tprint(k)\n"
   ]
  },
  {
   "cell_type": "code",
   "execution_count": 76,
   "id": "db65feee",
   "metadata": {},
   "outputs": [
    {
     "name": "stdout",
     "output_type": "stream",
     "text": [
      "foo 1\n",
      "bar 2\n",
      "baz 3\n"
     ]
    }
   ],
   "source": [
    "d = {'foo': 1, 'bar': 2, 'baz': 3}\n",
    "for k, v in d.items():\n",
    "\tprint(k, v)\n"
   ]
  },
  {
   "cell_type": "code",
   "execution_count": 77,
   "id": "54b0401b",
   "metadata": {},
   "outputs": [
    {
     "name": "stdout",
     "output_type": "stream",
     "text": [
      "0\n",
      "1\n",
      "2\n",
      "3\n",
      "4\n",
      "9\n",
      "2\n"
     ]
    }
   ],
   "source": [
    "for n in (0, 1, 2, 3, 4, 9, 2):  # 0 1 2 3 4 9 2\n",
    "\tprint(n)                 \t# 0 1 2 3 4 9 2"
   ]
  },
  {
   "cell_type": "code",
   "execution_count": 78,
   "id": "05ce0e3c",
   "metadata": {},
   "outputs": [
    {
     "name": "stdout",
     "output_type": "stream",
     "text": [
      "0\n",
      "1\n",
      "2\n",
      "3\n",
      "4\n"
     ]
    }
   ],
   "source": [
    "x = range(5)\n",
    "\n",
    "for i in x:\n",
    "# for i in range(5):\n",
    "\tprint(i)\n"
   ]
  },
  {
   "cell_type": "code",
   "execution_count": 4,
   "id": "3f872010",
   "metadata": {},
   "outputs": [
    {
     "name": "stdout",
     "output_type": "stream",
     "text": [
      "bar\n"
     ]
    }
   ],
   "source": [
    "for i in ['foo', 'bar', 'baz', 'qux']:\n",
    "    if 'b' in i: # b di foo? b bar? b baz? b  qux?\n",
    "        break\n",
    "print(i)\n"
   ]
  },
  {
   "cell_type": "code",
   "execution_count": 7,
   "id": "97c1dcbe",
   "metadata": {},
   "outputs": [
    {
     "name": "stdout",
     "output_type": "stream",
     "text": [
      "qux\n"
     ]
    }
   ],
   "source": [
    "for i in ['foo', 'bar', 'baz', 'qux']:\n",
    "    if 'b' in i: # b di foo? b di bar? b di baz? b di qux?\n",
    "        continue\n",
    "print(i)\n"
   ]
  },
  {
   "cell_type": "code",
   "execution_count": null,
   "id": "7aa3b02c",
   "metadata": {},
   "outputs": [],
   "source": []
  }
 ],
 "metadata": {
  "kernelspec": {
   "display_name": "Python 3 (ipykernel)",
   "language": "python",
   "name": "python3"
  },
  "language_info": {
   "codemirror_mode": {
    "name": "ipython",
    "version": 3
   },
   "file_extension": ".py",
   "mimetype": "text/x-python",
   "name": "python",
   "nbconvert_exporter": "python",
   "pygments_lexer": "ipython3",
   "version": "3.9.12"
  }
 },
 "nbformat": 4,
 "nbformat_minor": 5
}
