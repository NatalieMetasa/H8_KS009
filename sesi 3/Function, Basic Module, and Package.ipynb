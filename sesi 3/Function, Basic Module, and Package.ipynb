{
 "cells": [
  {
   "cell_type": "code",
   "execution_count": 1,
   "id": "fbbb10f1",
   "metadata": {},
   "outputs": [],
   "source": [
    "# user-defined function : yang kita definisikan"
   ]
  },
  {
   "cell_type": "markdown",
   "id": "a4977125",
   "metadata": {},
   "source": [
    "Pendefinisian fungsi di Python\n",
    "\n",
    "def [nama fungsi] ([parameter1],[parameter2]) : # function declaration, function signature\n",
    "\n",
    "def [nama fungsi] ([parameters if any]) : # function declaration, function signature\n",
    "\n",
    "### retrieve doc string\n",
    "function_name.doc"
   ]
  },
  {
   "cell_type": "code",
   "execution_count": 2,
   "id": "03b5dccb",
   "metadata": {},
   "outputs": [],
   "source": [
    "def greeting():\n",
    "    '''Fungsi ini akan menampilkan pesan default yaitu Hello world.'''\n",
    "    print('Hello world')"
   ]
  },
  {
   "cell_type": "code",
   "execution_count": 3,
   "id": "4d9843eb",
   "metadata": {},
   "outputs": [
    {
     "name": "stdout",
     "output_type": "stream",
     "text": [
      "Hello world\n"
     ]
    }
   ],
   "source": [
    "greeting()"
   ]
  },
  {
   "cell_type": "code",
   "execution_count": 5,
   "id": "65b7ec93",
   "metadata": {},
   "outputs": [
    {
     "data": {
      "text/plain": [
       "['__annotations__',\n",
       " '__call__',\n",
       " '__class__',\n",
       " '__closure__',\n",
       " '__code__',\n",
       " '__defaults__',\n",
       " '__delattr__',\n",
       " '__dict__',\n",
       " '__dir__',\n",
       " '__doc__',\n",
       " '__eq__',\n",
       " '__format__',\n",
       " '__ge__',\n",
       " '__get__',\n",
       " '__getattribute__',\n",
       " '__globals__',\n",
       " '__gt__',\n",
       " '__hash__',\n",
       " '__init__',\n",
       " '__init_subclass__',\n",
       " '__kwdefaults__',\n",
       " '__le__',\n",
       " '__lt__',\n",
       " '__module__',\n",
       " '__name__',\n",
       " '__ne__',\n",
       " '__new__',\n",
       " '__qualname__',\n",
       " '__reduce__',\n",
       " '__reduce_ex__',\n",
       " '__repr__',\n",
       " '__setattr__',\n",
       " '__sizeof__',\n",
       " '__str__',\n",
       " '__subclasshook__']"
      ]
     },
     "execution_count": 5,
     "metadata": {},
     "output_type": "execute_result"
    }
   ],
   "source": [
    "dir(greeting)"
   ]
  },
  {
   "cell_type": "code",
   "execution_count": 29,
   "id": "f4ddcba0",
   "metadata": {},
   "outputs": [
    {
     "data": {
      "text/plain": [
       "'Fungsi ini akan menampilkan pesan default yaitu Hello world.'"
      ]
     },
     "execution_count": 29,
     "metadata": {},
     "output_type": "execute_result"
    }
   ],
   "source": [
    "greeting.__doc__"
   ]
  },
  {
   "cell_type": "markdown",
   "id": "bf8164e0",
   "metadata": {},
   "source": [
    "### docstring\n",
    "'''\n",
    "    overview function\n",
    "    inputnya apa aja : (tipenya int/str/bool)\n",
    "    outputnya apa aja:\n",
    "'''"
   ]
  },
  {
   "cell_type": "code",
   "execution_count": 69,
   "id": "2f142978",
   "metadata": {},
   "outputs": [],
   "source": [
    "def my_function(p,l): #parameter\n",
    "    '''Function Menghitung Luas'''\n",
    "    print(p*l)\n",
    "    return none"
   ]
  },
  {
   "cell_type": "code",
   "execution_count": 18,
   "id": "a6b95842",
   "metadata": {},
   "outputs": [
    {
     "ename": "NameError",
     "evalue": "name 'my_function' is not defined",
     "output_type": "error",
     "traceback": [
      "\u001b[1;31m---------------------------------------------------------------------------\u001b[0m",
      "\u001b[1;31mNameError\u001b[0m                                 Traceback (most recent call last)",
      "Input \u001b[1;32mIn [18]\u001b[0m, in \u001b[0;36m<cell line: 1>\u001b[1;34m()\u001b[0m\n\u001b[1;32m----> 1\u001b[0m \u001b[43mmy_function\u001b[49m(\u001b[38;5;241m2\u001b[39m,\u001b[38;5;241m8\u001b[39m)\n",
      "\u001b[1;31mNameError\u001b[0m: name 'my_function' is not defined"
     ]
    }
   ],
   "source": [
    "my_function(2,8)"
   ]
  },
  {
   "cell_type": "code",
   "execution_count": 24,
   "id": "0b9b74bd",
   "metadata": {},
   "outputs": [],
   "source": [
    "def printme(str):\n",
    "    '''This prints a passed string into this function'''\n",
    "    print(str)\n",
    "    return"
   ]
  },
  {
   "cell_type": "code",
   "execution_count": 26,
   "id": "f77ffa56",
   "metadata": {},
   "outputs": [
    {
     "data": {
      "text/plain": [
       "['__annotations__',\n",
       " '__call__',\n",
       " '__class__',\n",
       " '__closure__',\n",
       " '__code__',\n",
       " '__defaults__',\n",
       " '__delattr__',\n",
       " '__dict__',\n",
       " '__dir__',\n",
       " '__doc__',\n",
       " '__eq__',\n",
       " '__format__',\n",
       " '__ge__',\n",
       " '__get__',\n",
       " '__getattribute__',\n",
       " '__globals__',\n",
       " '__gt__',\n",
       " '__hash__',\n",
       " '__init__',\n",
       " '__init_subclass__',\n",
       " '__kwdefaults__',\n",
       " '__le__',\n",
       " '__lt__',\n",
       " '__module__',\n",
       " '__name__',\n",
       " '__ne__',\n",
       " '__new__',\n",
       " '__qualname__',\n",
       " '__reduce__',\n",
       " '__reduce_ex__',\n",
       " '__repr__',\n",
       " '__setattr__',\n",
       " '__sizeof__',\n",
       " '__str__',\n",
       " '__subclasshook__']"
      ]
     },
     "execution_count": 26,
     "metadata": {},
     "output_type": "execute_result"
    }
   ],
   "source": [
    "dir(printme)"
   ]
  },
  {
   "cell_type": "code",
   "execution_count": 28,
   "id": "382b8cc3",
   "metadata": {},
   "outputs": [
    {
     "data": {
      "text/plain": [
       "'This prints a passed string into this function'"
      ]
     },
     "execution_count": 28,
     "metadata": {},
     "output_type": "execute_result"
    }
   ],
   "source": [
    "printme.__doc__"
   ]
  },
  {
   "cell_type": "code",
   "execution_count": 32,
   "id": "f2b7e1d0",
   "metadata": {},
   "outputs": [
    {
     "name": "stdout",
     "output_type": "stream",
     "text": [
      "Values inside the function:  [10, 20, 30, [1, 2, 3, 4]]\n",
      "Values outside the function:  [10, 20, 30, [1, 2, 3, 4]]\n"
     ]
    }
   ],
   "source": [
    "def changeme(mylist):\n",
    "    \"This changes a passed list into this function\"\n",
    "    mylist.append([1,2,3,4])\n",
    "    print(\"Values inside the function: \", mylist)\n",
    "    return\n",
    "\n",
    "# Now you can call the changeme function\n",
    "mylist = [10,20,30]\n",
    "changeme(mylist)\n",
    "print(\"Values outside the function: \", mylist)"
   ]
  },
  {
   "cell_type": "code",
   "execution_count": 33,
   "id": "15c21b9c",
   "metadata": {},
   "outputs": [
    {
     "name": "stdout",
     "output_type": "stream",
     "text": [
      "Values inside the function:  holla 777\n",
      "Values outside the function:  holla \n"
     ]
    }
   ],
   "source": [
    "# Function definition is here\n",
    "def changeme(mystr):\n",
    "\t\"This changes a passed str into this function\"\n",
    "\tmystr += '777'\n",
    "\tprint(\"Values inside the function: \", mystr)\n",
    "\treturn\n",
    "\n",
    "\n",
    "# Now you can call the changeme function\n",
    "mystr = \"holla \"\n",
    "changeme(mystr)\n",
    "print(\"Values outside the function: \", mystr)\n"
   ]
  },
  {
   "cell_type": "code",
   "execution_count": 35,
   "id": "1f34ebd5",
   "metadata": {},
   "outputs": [
    {
     "name": "stdout",
     "output_type": "stream",
     "text": [
      "Values inside the function:  [1, 2, 3, 4]\n",
      "Values outside the function:  [10, 20, 30]\n"
     ]
    }
   ],
   "source": [
    "# Function definition is here\n",
    "def changeme(mylist):\n",
    "    '''This changes a passed list into this function'''\n",
    "    mylist = [1, 2, 3, 4] # This would assign new reference in mylist\n",
    "    print(\"Values inside the function: \", mylist) #** 1 2 3 4\n",
    "    return\n",
    "\n",
    "\n",
    "# Now you can call changeme function\n",
    "mylist = [10, 20, 30]\n",
    "changeme(mylist)\n",
    "print(\"Values outside the function: \", mylist)  #**10, 20, 30\n"
   ]
  },
  {
   "cell_type": "code",
   "execution_count": 36,
   "id": "25c36d56",
   "metadata": {},
   "outputs": [
    {
     "name": "stdout",
     "output_type": "stream",
     "text": [
      "Name:  Ari\n",
      "Age:  45\n"
     ]
    }
   ],
   "source": [
    "# Function definition is here\n",
    "def print_info(name,age):\n",
    "    '''This prints a passed info this function'''\n",
    "    print(\"Name: \", name)\n",
    "    print(\"Age: \", age)\n",
    "    return\n",
    "\n",
    "# Now you can call print_info function\n",
    "print_info(\"Ari\",45)"
   ]
  },
  {
   "cell_type": "code",
   "execution_count": 38,
   "id": "b2db4859",
   "metadata": {},
   "outputs": [
    {
     "name": "stdout",
     "output_type": "stream",
     "text": [
      "Name:  45\n",
      "Age:  Ari\n"
     ]
    }
   ],
   "source": [
    "print_info(45,\"Ari\")\n",
    "#         (name, age)"
   ]
  },
  {
   "cell_type": "code",
   "execution_count": 39,
   "id": "da919154",
   "metadata": {},
   "outputs": [
    {
     "name": "stdout",
     "output_type": "stream",
     "text": [
      "Name:  Ari\n",
      "Age:  45\n"
     ]
    }
   ],
   "source": [
    "#Keyword argument\n",
    "\n",
    "print_info(name=\"Ari\", age=45)"
   ]
  },
  {
   "cell_type": "code",
   "execution_count": 40,
   "id": "4d522b7e",
   "metadata": {},
   "outputs": [
    {
     "name": "stdout",
     "output_type": "stream",
     "text": [
      "Name:  Ari\n",
      "Age:  45\n"
     ]
    }
   ],
   "source": [
    "print_info(age=45, name=\"Ari\")"
   ]
  },
  {
   "cell_type": "code",
   "execution_count": 41,
   "id": "a31bf4ac",
   "metadata": {},
   "outputs": [],
   "source": [
    "# Function definition is here\n",
    "def print_info(name,age=17):\n",
    "    '''This prints a passed info this function'''\n",
    "    print(\"Name: \", name)\n",
    "    print(\"Age: \", age)\n",
    "    return"
   ]
  },
  {
   "cell_type": "code",
   "execution_count": 42,
   "id": "fcd34262",
   "metadata": {},
   "outputs": [
    {
     "name": "stdout",
     "output_type": "stream",
     "text": [
      "Name:  Ira\n",
      "Age:  17\n"
     ]
    }
   ],
   "source": [
    "print_info('Ira')"
   ]
  },
  {
   "cell_type": "code",
   "execution_count": 43,
   "id": "1f327623",
   "metadata": {},
   "outputs": [
    {
     "name": "stdout",
     "output_type": "stream",
     "text": [
      "Name:  Indira\n",
      "Age:  17\n",
      "Name:  Dira\n",
      "Age:  17\n"
     ]
    }
   ],
   "source": [
    "print_info('Indira')\n",
    "print_info('Dira')"
   ]
  },
  {
   "cell_type": "code",
   "execution_count": null,
   "id": "396e3a43",
   "metadata": {},
   "outputs": [],
   "source": [
    "# Function definition is here\n",
    "def print_info(arg1, *vartuple):\n",
    "# def print_info(cust_name, *items):\n",
    "# def print_info(menu, *ingredients):\n",
    "# def print_info(nasabah, *loan)"
   ]
  },
  {
   "cell_type": "code",
   "execution_count": 49,
   "id": "7cc45fbf",
   "metadata": {},
   "outputs": [],
   "source": [
    "# Function definition is here\n",
    "def print_info(arg1, *vartuple):\n",
    "    '''This prints a variable passed arguments'''\n",
    "    print(\"Output is: \")\n",
    "    print(arg1)\n",
    "    \n",
    "    for var in vartuple:\n",
    "        print(var)\n",
    "        \n",
    "    return"
   ]
  },
  {
   "cell_type": "code",
   "execution_count": 50,
   "id": "834adc48",
   "metadata": {},
   "outputs": [
    {
     "name": "stdout",
     "output_type": "stream",
     "text": [
      "Output is: \n",
      "10\n"
     ]
    }
   ],
   "source": [
    "# Now you can call print_info function\n",
    "print_info(10)\n",
    "\n",
    "#         (arg1, *vartuple())"
   ]
  },
  {
   "cell_type": "code",
   "execution_count": 51,
   "id": "485a181f",
   "metadata": {},
   "outputs": [
    {
     "name": "stdout",
     "output_type": "stream",
     "text": [
      "Output is: \n",
      "70\n",
      "60\n",
      "50\n",
      "a\n"
     ]
    }
   ],
   "source": [
    "print_info(70,60,50,\"a\")\n",
    "\n",
    "#         (arg1, *vartuple=(60,50,\"a\"))"
   ]
  },
  {
   "cell_type": "code",
   "execution_count": 59,
   "id": "f51af294",
   "metadata": {},
   "outputs": [],
   "source": [
    "# Function definition is here\n",
    "def buy(cust_name, **items):\n",
    "    '''This prints items bought by a customer '''\n",
    "    \n",
    "    print(\"Customer name: \", cust_name)\n",
    "    \n",
    "    for key in items:\n",
    "# for item in items.keys():\n",
    "        print(\"item ke-\",key, \": \", items[key])\n",
    "    \n",
    "    return\n"
   ]
  },
  {
   "cell_type": "code",
   "execution_count": 61,
   "id": "19b4a376",
   "metadata": {},
   "outputs": [
    {
     "name": "stdout",
     "output_type": "stream",
     "text": [
      "Customer name:  Ani\n",
      "item ke- first :  egg\n",
      "item ke- second :  sugar\n",
      "item ke- third :  salt\n",
      "item ke- fourth :  baking powder\n"
     ]
    }
   ],
   "source": [
    "buy(\"Ani\", first=\"egg\", second=\"sugar\", third=\"salt\", fourth=\"baking powder\")"
   ]
  },
  {
   "cell_type": "code",
   "execution_count": 62,
   "id": "80630e9a",
   "metadata": {},
   "outputs": [
    {
     "name": "stdout",
     "output_type": "stream",
     "text": [
      "Customer name:  Nuri\n",
      "item ke- satu :  buku, pulpen\n"
     ]
    }
   ],
   "source": [
    "buy(\"Nuri\", satu=\"buku, pulpen\")"
   ]
  },
  {
   "cell_type": "code",
   "execution_count": 71,
   "id": "99b9169b",
   "metadata": {},
   "outputs": [
    {
     "name": "stdout",
     "output_type": "stream",
     "text": [
      "80\n"
     ]
    }
   ],
   "source": [
    "def calculate_area(p, l):\n",
    "\t'''Function untuk menghitung luas'''\n",
    "# \tprint(p * l)\n",
    "\n",
    "# \treturn p * l\n",
    "\n",
    "\tresult = p *l\n",
    "\treturn result\n",
    "# \treturn result, \"AAAA\"\n",
    "\n",
    "area = calculate_area(10, 8)\n",
    "# area = 80\n",
    "print(area)"
   ]
  },
  {
   "cell_type": "code",
   "execution_count": 74,
   "id": "0cee1f5c",
   "metadata": {},
   "outputs": [
    {
     "name": "stdout",
     "output_type": "stream",
     "text": [
      "<function <lambda> at 0x0000019DC99F2940>\n",
      "15\n"
     ]
    }
   ],
   "source": [
    "area = lambda p, l : p*1\n",
    "print(area)\n",
    "print(area(15,8))"
   ]
  },
  {
   "cell_type": "code",
   "execution_count": 76,
   "id": "de0d3073",
   "metadata": {},
   "outputs": [
    {
     "name": "stdout",
     "output_type": "stream",
     "text": [
      "Value of total:  30\n",
      "Value of total:  40\n"
     ]
    }
   ],
   "source": [
    "# Function definition is here\n",
    "\n",
    "sum = lambda arg1, arg2: arg1+arg2\n",
    "#sum = arg1+arg2\n",
    "#sum = 10 + 20\n",
    "#sum = 30\n",
    "\n",
    "# Now you can call sum as a function\n",
    "print(\"Value of total: \", sum(10,20))\n",
    "print(\"Value of total: \", sum(20,20))"
   ]
  },
  {
   "cell_type": "code",
   "execution_count": 81,
   "id": "a5a69549",
   "metadata": {},
   "outputs": [
    {
     "name": "stdout",
     "output_type": "stream",
     "text": [
      "Inside the function :  30\n",
      "Outside the function :  None\n"
     ]
    }
   ],
   "source": [
    "# Function definition is here\n",
    "def sum(arg1,arg2):\n",
    "    '''Add both the parameters and return them'''\n",
    "    total = arg1 + arg2\n",
    "    print(\"Inside the function : \", total)\n",
    "    return \n",
    "\n",
    "# Now you can call sum function\n",
    "total = sum(10, 20)\n",
    "print(\"Outside the function : \", total)\n",
    "\n"
   ]
  },
  {
   "cell_type": "code",
   "execution_count": 82,
   "id": "d57c18de",
   "metadata": {},
   "outputs": [
    {
     "name": "stdout",
     "output_type": "stream",
     "text": [
      "50\n",
      "40\n"
     ]
    }
   ],
   "source": [
    "jumlahKucing = 20\n",
    "\n",
    "def jumlahHewan():\n",
    "    jumlahAnjing = 30\n",
    "    return jumlahKucing + jumlahAnjing\n",
    "\n",
    "def jumlahKelinci():\n",
    "    return jumlahKucing + jumlahKucing\n",
    "\n",
    "print(jumlahHewan())\n",
    "print(jumlahKelinci())\n"
   ]
  },
  {
   "cell_type": "code",
   "execution_count": 88,
   "id": "6fa3b3b8",
   "metadata": {},
   "outputs": [],
   "source": [
    "import mod"
   ]
  },
  {
   "cell_type": "code",
   "execution_count": 84,
   "id": "29eb6229",
   "metadata": {},
   "outputs": [],
   "source": [
    "import sys"
   ]
  },
  {
   "cell_type": "code",
   "execution_count": 85,
   "id": "4151f721",
   "metadata": {},
   "outputs": [
    {
     "data": {
      "text/plain": [
       "['C:\\\\Users\\\\Natalie Ocha\\\\pytn-ks-009\\\\sesi 3',\n",
       " 'C:\\\\Users\\\\Natalie Ocha\\\\anaconda3\\\\python39.zip',\n",
       " 'C:\\\\Users\\\\Natalie Ocha\\\\anaconda3\\\\DLLs',\n",
       " 'C:\\\\Users\\\\Natalie Ocha\\\\anaconda3\\\\lib',\n",
       " 'C:\\\\Users\\\\Natalie Ocha\\\\anaconda3',\n",
       " '',\n",
       " 'C:\\\\Users\\\\Natalie Ocha\\\\anaconda3\\\\lib\\\\site-packages',\n",
       " 'C:\\\\Users\\\\Natalie Ocha\\\\anaconda3\\\\lib\\\\site-packages\\\\win32',\n",
       " 'C:\\\\Users\\\\Natalie Ocha\\\\anaconda3\\\\lib\\\\site-packages\\\\win32\\\\lib',\n",
       " 'C:\\\\Users\\\\Natalie Ocha\\\\anaconda3\\\\lib\\\\site-packages\\\\Pythonwin']"
      ]
     },
     "execution_count": 85,
     "metadata": {},
     "output_type": "execute_result"
    }
   ],
   "source": [
    "sys.path"
   ]
  },
  {
   "cell_type": "code",
   "execution_count": 86,
   "id": "fb31dd7b",
   "metadata": {},
   "outputs": [
    {
     "data": {
      "text/plain": [
       "10"
      ]
     },
     "execution_count": 86,
     "metadata": {},
     "output_type": "execute_result"
    }
   ],
   "source": [
    "len(sys.path)"
   ]
  },
  {
   "cell_type": "code",
   "execution_count": 89,
   "id": "84f05c35",
   "metadata": {},
   "outputs": [
    {
     "ename": "AttributeError",
     "evalue": "module 'mod' has no attribute 'a'",
     "output_type": "error",
     "traceback": [
      "\u001b[1;31m---------------------------------------------------------------------------\u001b[0m",
      "\u001b[1;31mAttributeError\u001b[0m                            Traceback (most recent call last)",
      "Input \u001b[1;32mIn [89]\u001b[0m, in \u001b[0;36m<cell line: 1>\u001b[1;34m()\u001b[0m\n\u001b[1;32m----> 1\u001b[0m \u001b[43mmod\u001b[49m\u001b[38;5;241;43m.\u001b[39;49m\u001b[43ma\u001b[49m\n",
      "\u001b[1;31mAttributeError\u001b[0m: module 'mod' has no attribute 'a'"
     ]
    }
   ],
   "source": [
    "mod.a"
   ]
  },
  {
   "cell_type": "code",
   "execution_count": 90,
   "id": "e3b2f74b",
   "metadata": {},
   "outputs": [],
   "source": [
    "def bar():\n",
    "    from mod import foo\n",
    "    foo('corge')"
   ]
  },
  {
   "cell_type": "code",
   "execution_count": 92,
   "id": "ae440112",
   "metadata": {},
   "outputs": [
    {
     "ename": "ImportError",
     "evalue": "cannot import name 'foo' from 'mod' (C:\\Users\\Natalie Ocha\\pytn-ks-009\\sesi 3\\mod.py)",
     "output_type": "error",
     "traceback": [
      "\u001b[1;31m---------------------------------------------------------------------------\u001b[0m",
      "\u001b[1;31mImportError\u001b[0m                               Traceback (most recent call last)",
      "Input \u001b[1;32mIn [92]\u001b[0m, in \u001b[0;36m<cell line: 1>\u001b[1;34m()\u001b[0m\n\u001b[1;32m----> 1\u001b[0m \u001b[43mbar\u001b[49m\u001b[43m(\u001b[49m\u001b[43m)\u001b[49m\n",
      "Input \u001b[1;32mIn [90]\u001b[0m, in \u001b[0;36mbar\u001b[1;34m()\u001b[0m\n\u001b[0;32m      1\u001b[0m \u001b[38;5;28;01mdef\u001b[39;00m \u001b[38;5;21mbar\u001b[39m():\n\u001b[1;32m----> 2\u001b[0m     \u001b[38;5;28;01mfrom\u001b[39;00m \u001b[38;5;21;01mmod\u001b[39;00m \u001b[38;5;28;01mimport\u001b[39;00m foo\n\u001b[0;32m      3\u001b[0m     foo(\u001b[38;5;124m'\u001b[39m\u001b[38;5;124mcorge\u001b[39m\u001b[38;5;124m'\u001b[39m)\n",
      "\u001b[1;31mImportError\u001b[0m: cannot import name 'foo' from 'mod' (C:\\Users\\Natalie Ocha\\pytn-ks-009\\sesi 3\\mod.py)"
     ]
    }
   ],
   "source": [
    "bar()"
   ]
  },
  {
   "cell_type": "code",
   "execution_count": null,
   "id": "0ceee045",
   "metadata": {},
   "outputs": [],
   "source": []
  }
 ],
 "metadata": {
  "kernelspec": {
   "display_name": "Python 3 (ipykernel)",
   "language": "python",
   "name": "python3"
  },
  "language_info": {
   "codemirror_mode": {
    "name": "ipython",
    "version": 3
   },
   "file_extension": ".py",
   "mimetype": "text/x-python",
   "name": "python",
   "nbconvert_exporter": "python",
   "pygments_lexer": "ipython3",
   "version": "3.9.12"
  }
 },
 "nbformat": 4,
 "nbformat_minor": 5
}
